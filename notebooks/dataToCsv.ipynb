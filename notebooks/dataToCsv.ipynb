{
 "cells": [
  {
   "cell_type": "code",
   "execution_count": 1,
   "metadata": {},
   "outputs": [],
   "source": [
    "import os\n",
    "import cv2\n",
    "import pandas as pd"
   ]
  },
  {
   "cell_type": "code",
   "execution_count": 2,
   "metadata": {},
   "outputs": [],
   "source": [
    "polyps = {'adenoma':0,\n",
    "          'hiperplastic': 1,\n",
    "          'serrated': 2}"
   ]
  },
  {
   "cell_type": "code",
   "execution_count": 3,
   "metadata": {},
   "outputs": [
    {
     "name": "stdout",
     "output_type": "stream",
     "text": [
      "amount of images in train:  1188\n",
      "amount of images in test:  295\n"
     ]
    }
   ],
   "source": [
    "#domains: A for white light, B: NBI\n",
    "base = '../../../data/polyps/'\n",
    "train_pth = base + 'trainB'\n",
    "test_pth = base + 'testB'\n",
    "\n",
    "train_imgs = os.listdir(train_pth)\n",
    "test_imgs = os.listdir(test_pth)\n",
    "print(\"amount of images in train: \",len(train_imgs))\n",
    "print(\"amount of images in test: \",len(test_imgs))"
   ]
  },
  {
   "cell_type": "code",
   "execution_count": 4,
   "metadata": {},
   "outputs": [
    {
     "name": "stdout",
     "output_type": "stream",
     "text": [
      "finished!\n"
     ]
    }
   ],
   "source": [
    "img_size = (256,256)\n",
    "csvfile = open('ccycleGanCrc.csv', '+w')\n",
    "splits = [train_imgs, test_imgs]\n",
    "\n",
    "for split in splits:\n",
    "    #for test split\n",
    "    for data in split:\n",
    "        pixels = []\n",
    "        if split == train_imgs:\n",
    "            img_path = train_pth + '/' + data\n",
    "        else:\n",
    "            img_path = test_pth + '/' + data\n",
    "\n",
    "        img = cv2.imread(img_path, cv2.IMREAD_COLOR)\n",
    "        img = cv2.cvtColor(img, cv2.COLOR_BGR2RGB)\n",
    "        img_resized = cv2.resize(img, img_size, interpolation = cv2.INTER_NEAREST)\n",
    "        flattened = img_resized.flatten() \n",
    "        pixel_val = ' '.join(map(str, flattened))\n",
    "        pixels.append(pixel_val)\n",
    "        values = ' '.join(map(str, pixels))\n",
    "\n",
    "        if split == train_imgs:\n",
    "            tipo = data.split('_')[0]\n",
    "            clase = str(polyps[tipo])\n",
    "            csvfile.write(clase+','+values+\",Training\\n\")\n",
    "        else:\n",
    "            tipo = data.split('_')[0]\n",
    "            clase = str(polyps[tipo])\n",
    "            csvfile.write(clase+','+values+\",Testing\\n\")\n",
    "\n",
    "csvfile.close()  \n",
    "\n",
    "print(\"finished!\")"
   ]
  },
  {
   "cell_type": "code",
   "execution_count": null,
   "metadata": {},
   "outputs": [],
   "source": []
  }
 ],
 "metadata": {
  "kernelspec": {
   "display_name": "Python 3",
   "language": "python",
   "name": "python3"
  },
  "language_info": {
   "codemirror_mode": {
    "name": "ipython",
    "version": 3
   },
   "file_extension": ".py",
   "mimetype": "text/x-python",
   "name": "python",
   "nbconvert_exporter": "python",
   "pygments_lexer": "ipython3",
   "version": "3.8.10"
  }
 },
 "nbformat": 4,
 "nbformat_minor": 2
}
